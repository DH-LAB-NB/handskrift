{
 "cells": [
  {
   "cell_type": "code",
   "execution_count": null,
   "metadata": {},
   "outputs": [],
   "source": [
    "import handskrift as hs"
   ]
  },
  {
   "cell_type": "code",
   "execution_count": null,
   "metadata": {},
   "outputs": [],
   "source": [
    "from imp import reload \n",
    "import requests\n",
    "import json"
   ]
  },
  {
   "cell_type": "code",
   "execution_count": null,
   "metadata": {},
   "outputs": [],
   "source": [
    "reload(hs)"
   ]
  },
  {
   "cell_type": "markdown",
   "metadata": {},
   "source": [
    "### Login"
   ]
  },
  {
   "cell_type": "code",
   "execution_count": null,
   "metadata": {},
   "outputs": [],
   "source": [
    "## legg inn ditt brukernavn og passord. Obs: ikke del fil med brukenavn og passord\n",
    "\n",
    "user=''\n",
    "pw=''"
   ]
  },
  {
   "cell_type": "code",
   "execution_count": null,
   "metadata": {},
   "outputs": [],
   "source": [
    "my_session = requests.Session()\n",
    "my_session.post('https://transkribus.eu/TrpServer/rest/auth/login', data={\"user\": user, \"pw\":pw})"
   ]
  },
  {
   "cell_type": "markdown",
   "metadata": {},
   "source": [
    "### Se dine collections"
   ]
  },
  {
   "cell_type": "code",
   "execution_count": null,
   "metadata": {},
   "outputs": [],
   "source": [
    "collections = my_session.get('https://transkribus.eu/TrpServer/rest/collections/list')\n",
    "json.loads(collections.content)"
   ]
  },
  {
   "cell_type": "markdown",
   "metadata": {},
   "source": [
    "#### Se dokumenter i collection"
   ]
  },
  {
   "cell_type": "code",
   "execution_count": null,
   "metadata": {},
   "outputs": [],
   "source": [
    "collId = '80322'\n",
    "\n",
    "docs = my_session.get('https://transkribus.eu/TrpServer/rest/collections/'+collId+'/list')\n",
    "json.loads(docs.content)"
   ]
  },
  {
   "cell_type": "markdown",
   "metadata": {},
   "source": [
    "### Finn fram dokumenter"
   ]
  },
  {
   "cell_type": "code",
   "execution_count": null,
   "metadata": {},
   "outputs": [],
   "source": [
    "### hent sesamids fra nb. vi lager egen notebook for det\n",
    "\n",
    "sesamids= ['f4742e38a5413b4e3239ae7e132f41e8',\n",
    " '57cc6da9cd8a2482aef188af2df7fb59',\n",
    " '3f538865881c29a654e1a35c54b7a8ac',\n",
    " '23716278bc569f35b6f2b2f8799cd488',\n",
    " '2f2b2af9b606d3dab25b4a090714a92d',\n",
    " '23942c31a7a6210663150974b720fb4d',\n",
    " '9b12622b6a139f3222eb2404aa187377',\n",
    " '208ecbf418fce2b11fffd73258846367',\n",
    " '1526109a968cc96b06d5c5a3b2fb2450',\n",
    " '15214cea0df9132c57ab21bf9fb3d7fe',\n",
    " '667d36a941cfefe95104f7589c35610b',\n",
    " '447375c566cab5647123b9e71b690bbf',\n",
    " '8d90c6d3ce05058b71155f4e37a68682',\n",
    " '5fdfd5606de48ce1ec0345535021af19',\n",
    " 'd598e739c85780283d796e9da29a7648',\n",
    " 'b20dbb6ce17ff7ad386286953035fb56',\n",
    " '8892413cc0f76a04a64cfaa0f7cd80d9',\n",
    " '51e9a1544a84eab72c1b71093444588a',\n",
    " '77b7e257398f155d0fd926bfc46cdb2a',\n",
    " 'd14cedadf7948ab961311debc4a222f9',\n",
    " '42ef68b7b968d74ffe4b11a3e1534eb3',\n",
    " '1c7359059358113a07584c21d874b8ac',\n",
    " 'e8fec441cbb57e0a375303612113303f',\n",
    " '25791394c770eae4fe9c67d32596373e',\n",
    " '3036f551b9a6509b7e98a9a774b8cd67',\n",
    " 'ac3e0779caddca3dfdf07e33e5845698',\n",
    " '37ac2108de74c4d7ac6f05b844359ec2',\n",
    " 'a5e115dbf7b7c639d5b36cf1de0bf605',\n",
    " '223773a4cf0b4f404ce59a59397d5035',\n",
    " '48d388c0aa2f38e6a63d3ec0feeba959']"
   ]
  },
  {
   "cell_type": "markdown",
   "metadata": {},
   "source": [
    "### Last opp fra NB til Transkribus"
   ]
  },
  {
   "cell_type": "code",
   "execution_count": null,
   "metadata": {},
   "outputs": [],
   "source": [
    "hs.lastopp_transkribus(collId='80565', s=my_session, sesamids=sesamids)"
   ]
  },
  {
   "cell_type": "code",
   "execution_count": null,
   "metadata": {},
   "outputs": [],
   "source": [
    "### hvis noen sesamids ikke ble lastet opp, vil de bli listet her. legg disse som ny sesamid og kjør lastopp-transkribus igjen.\n",
    "\n",
    "print(skipped)"
   ]
  },
  {
   "cell_type": "markdown",
   "metadata": {},
   "source": [
    "### Kjør Layoutanalyse"
   ]
  },
  {
   "cell_type": "code",
   "execution_count": null,
   "metadata": {},
   "outputs": [],
   "source": [
    "hs.la_transkribus(collId='80565', s=my_session)"
   ]
  },
  {
   "cell_type": "markdown",
   "metadata": {},
   "source": [
    "### Kjør automatisk tekstgjenkjenning"
   ]
  },
  {
   "cell_type": "markdown",
   "metadata": {},
   "source": [
    "#### HTR+"
   ]
  },
  {
   "cell_type": "code",
   "execution_count": null,
   "metadata": {},
   "outputs": [],
   "source": [
    "hs.htr_transkribus(collId='80565', modelId='25849', s=my_session)"
   ]
  },
  {
   "cell_type": "markdown",
   "metadata": {},
   "source": [
    "#### Pylaia"
   ]
  },
  {
   "cell_type": "code",
   "execution_count": null,
   "metadata": {},
   "outputs": [],
   "source": [
    "hs.pylaia_transkribus(collId='', modelId='', s=my_session)"
   ]
  }
 ],
 "metadata": {
  "kernelspec": {
   "display_name": "Python 3",
   "language": "python",
   "name": "python3"
  },
  "language_info": {
   "codemirror_mode": {
    "name": "ipython",
    "version": 3
   },
   "file_extension": ".py",
   "mimetype": "text/x-python",
   "name": "python",
   "nbconvert_exporter": "python",
   "pygments_lexer": "ipython3",
   "version": "3.7.1"
  }
 },
 "nbformat": 4,
 "nbformat_minor": 2
}
